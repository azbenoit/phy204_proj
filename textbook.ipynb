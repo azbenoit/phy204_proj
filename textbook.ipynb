{
 "cells": [
  {
   "cell_type": "code",
   "execution_count": 101,
   "metadata": {},
   "outputs": [],
   "source": [
    "import numpy as np\n",
    "import matplotlib.pyplot as plt\n",
    "import time\n",
    "%matplotlib qt"
   ]
  },
  {
   "attachments": {},
   "cell_type": "markdown",
   "metadata": {},
   "source": [
    "## Setup\n",
    "\n"
   ]
  },
  {
   "cell_type": "code",
   "execution_count": 2,
   "metadata": {},
   "outputs": [],
   "source": [
    "V=100\n",
    "L=100\n",
    "eps=1e-5"
   ]
  },
  {
   "cell_type": "code",
   "execution_count": 99,
   "metadata": {},
   "outputs": [],
   "source": [
    "def get_grid():\n",
    "    return np.zeros((2*L,2*L))\n",
    "\n",
    "def set_boundry(grid):\n",
    "    # grid[-1,:] = np.linspace(0, V ,2*L)\n",
    "    # grid[:,-1] = np.linspace(0, V,2*L)\n",
    "\n",
    "    grid[L, L-1:] = np.linspace(V, 0, L+1)\n",
    "    # grid[L, L-1:] = 0\n",
    "    grid[0:L+1,L-1] = np.linspace(0, V, L+1)\n",
    "    # grid[0:L+1,L-1] = 0\n",
    "    grid[0:L,L:] = np.zeros((L,L))\n",
    "\n",
    "    # grid[L:,-1]=np.linspace(0, V ,L)\n",
    "    # grid[-1,L:]=np.linspace(0, V ,L)\n",
    "\n",
    "def compute_grid():\n",
    "    N=0\n",
    "    err = eps+1\n",
    "\n",
    "    grid = get_grid()\n",
    "    last_grid = get_grid()\n",
    "    set_boundry(last_grid)\n",
    "\n",
    "    while (err>eps):\n",
    "        N+=1\n",
    "        grid = get_grid()\n",
    "        grid[1:-1,1:-1] = 0.25*(last_grid[2:,2:]+last_grid[2:,:-2]+last_grid[:-2,2:]+last_grid[:-2,:-2])\n",
    "        set_boundry(grid)\n",
    "\n",
    "        err = (grid-last_grid).max()\n",
    "        last_grid = grid\n",
    "\n",
    "    print(N)\n",
    "    return grid"
   ]
  },
  {
   "cell_type": "code",
   "execution_count": 107,
   "metadata": {},
   "outputs": [
    {
     "name": "stdout",
     "output_type": "stream",
     "text": [
      "16813\n",
      "3.1525352001190186\n"
     ]
    }
   ],
   "source": [
    "start = time.time()\n",
    "grid1 = compute_grid()\n",
    "print(time.time() - start)\n",
    "# plt.imshow(grid1)"
   ]
  },
  {
   "cell_type": "code",
   "execution_count": 103,
   "metadata": {},
   "outputs": [
    {
     "data": {
      "text/plain": [
       "1682321597.734146"
      ]
     },
     "execution_count": 103,
     "metadata": {},
     "output_type": "execute_result"
    }
   ],
   "source": []
  },
  {
   "cell_type": "code",
   "execution_count": 50,
   "metadata": {},
   "outputs": [
    {
     "data": {
      "text/plain": [
       "<matplotlib.contour.QuadContourSet at 0x160551360>"
      ]
     },
     "execution_count": 50,
     "metadata": {},
     "output_type": "execute_result"
    }
   ],
   "source": [
    "fig, ax = plt.subplots(subplot_kw={\"projection\": \"3d\"})\n",
    "\n",
    "X = np.arange(2*L)\n",
    "Y = np.arange(2*L)[::-1]\n",
    "X, Y = np.meshgrid(X, Y)\n",
    "# Z = grid + np.rot90(grid.T,2)\n",
    "# Z = grid1+grid2\n",
    "Z = grid\n",
    "ax.contour(X, Y, Z, 50)"
   ]
  },
  {
   "cell_type": "code",
   "execution_count": 57,
   "metadata": {},
   "outputs": [
    {
     "data": {
      "text/plain": [
       "0.0"
      ]
     },
     "execution_count": 57,
     "metadata": {},
     "output_type": "execute_result"
    }
   ],
   "source": [
    "grid2 = grid-grid1\n",
    "grid2[0:L,L:] = np.zeros((L,L))\n",
    "grid2.min()"
   ]
  },
  {
   "cell_type": "code",
   "execution_count": 66,
   "metadata": {},
   "outputs": [
    {
     "data": {
      "text/plain": [
       "array([1., 1., 1., 1., 1., 1., 1.])"
      ]
     },
     "execution_count": 66,
     "metadata": {},
     "output_type": "execute_result"
    }
   ],
   "source": [
    "a = np.ones(2)\n",
    "np.concatenate((a,np.ones(5)))"
   ]
  },
  {
   "cell_type": "code",
   "execution_count": 94,
   "metadata": {},
   "outputs": [
    {
     "name": "stderr",
     "output_type": "stream",
     "text": [
      "/var/folders/jn/78bt2nn54tl2wjjmmmcq84k40000gn/T/ipykernel_93943/3665491763.py:19: RuntimeWarning: invalid value encountered in double_scalars\n",
      "  v = yi/xi\n",
      "/var/folders/jn/78bt2nn54tl2wjjmmmcq84k40000gn/T/ipykernel_93943/3665491763.py:19: RuntimeWarning: divide by zero encountered in double_scalars\n",
      "  v = yi/xi\n"
     ]
    },
    {
     "data": {
      "text/plain": [
       "[<matplotlib.lines.Line2D at 0x29aa0b5e0>]"
      ]
     },
     "execution_count": 94,
     "metadata": {},
     "output_type": "execute_result"
    }
   ],
   "source": [
    "# def transform()\n",
    "\n",
    "N = 10\n",
    "D = 100\n",
    "\n",
    "x = np.array([])\n",
    "y = np.array([])\n",
    "\n",
    "for i in np.linspace(0, 0.5, N):\n",
    "    x = np.concatenate((x, np.linspace(i,1, D)))\n",
    "    y = np.concatenate((y, np.ones(D)*i))\n",
    "    y = np.concatenate((y, np.linspace(i,1, D)))\n",
    "    x = np.concatenate((x, np.ones(D)*i))\n",
    "\n",
    "for i in range(len(x)):\n",
    "    xi = x[i]\n",
    "    yi = y[i]\n",
    "\n",
    "    v = yi/xi\n",
    "\n",
    "    if 1 >= v >= 0.5:\n",
    "        x[i] = 2*v*xi\n",
    "        y[i] = 2*v*yi\n",
    "    elif 1 < v <= 2:\n",
    "        x[i] = 2*xi/v\n",
    "        y[i] = 2*yi/v\n",
    "\n",
    "fig, ax = plt.subplots()\n",
    "ax.plot(x, y, 'o', color='lightgrey')\n",
    "\n"
   ]
  },
  {
   "cell_type": "code",
   "execution_count": 138,
   "metadata": {},
   "outputs": [],
   "source": [
    "def optimized_boundry(grid):\n",
    "    grid[0, L-1:] = np.linspace(V, 0, L+1)\n",
    "    grid[0, :L-1] = grid[:0:-1, L-1]\n",
    "\n",
    "def optimized_compute():\n",
    "    N=0\n",
    "    err = eps+1\n",
    "\n",
    "    grid = np.zeros((L, 2*L))\n",
    "    last_grid = np.zeros((L, 2*L))\n",
    "    optimized_boundry(last_grid)\n",
    "\n",
    "    while (err>eps):\n",
    "        N+=1\n",
    "        grid = np.zeros((L, 2*L))\n",
    "        grid[1:-1,1:-1] = 0.25*(last_grid[2:,2:]+last_grid[2:,:-2]+last_grid[:-2,2:]+last_grid[:-2,:-2])\n",
    "        optimized_boundry(grid)\n",
    "\n",
    "        err = (grid-last_grid).max()\n",
    "        last_grid = grid\n",
    "\n",
    "    print(N)\n",
    "    return grid"
   ]
  },
  {
   "cell_type": "code",
   "execution_count": 141,
   "metadata": {},
   "outputs": [
    {
     "name": "stdout",
     "output_type": "stream",
     "text": [
      "16813\n",
      "1.826997995376587\n"
     ]
    },
    {
     "data": {
      "text/plain": [
       "<matplotlib.image.AxesImage at 0x281c5e7d0>"
      ]
     },
     "execution_count": 141,
     "metadata": {},
     "output_type": "execute_result"
    }
   ],
   "source": [
    "start = time.time()\n",
    "grid = optimized_compute()\n",
    "print(time.time() - start)\n",
    "plt.imshow(grid)"
   ]
  },
  {
   "cell_type": "code",
   "execution_count": 114,
   "metadata": {},
   "outputs": [
    {
     "data": {
      "text/plain": [
       "array([[ 0,  1,  2,  3,  4,  5,  6,  7],\n",
       "       [ 8,  9, 10, 11, 12, 13, 14, 15],\n",
       "       [16, 17, 18, 19, 20, 21, 22, 23],\n",
       "       [24, 25, 26, 27, 28, 29, 30, 31]])"
      ]
     },
     "execution_count": 114,
     "metadata": {},
     "output_type": "execute_result"
    }
   ],
   "source": [
    "arr = np.arange(4*2*4).reshape((4,8))\n",
    "arr"
   ]
  },
  {
   "cell_type": "code",
   "execution_count": 135,
   "metadata": {},
   "outputs": [
    {
     "data": {
      "text/plain": [
       "array([27, 19, 11])"
      ]
     },
     "execution_count": 135,
     "metadata": {},
     "output_type": "execute_result"
    }
   ],
   "source": [
    "arr[-1:0:-1,3]"
   ]
  },
  {
   "cell_type": "code",
   "execution_count": 132,
   "metadata": {},
   "outputs": [
    {
     "data": {
      "text/plain": [
       "array([0, 1, 2])"
      ]
     },
     "execution_count": 132,
     "metadata": {},
     "output_type": "execute_result"
    }
   ],
   "source": [
    "arr[0,:3]"
   ]
  },
  {
   "cell_type": "code",
   "execution_count": null,
   "metadata": {},
   "outputs": [],
   "source": []
  }
 ],
 "metadata": {
  "kernelspec": {
   "display_name": "base",
   "language": "python",
   "name": "python3"
  },
  "language_info": {
   "codemirror_mode": {
    "name": "ipython",
    "version": 3
   },
   "file_extension": ".py",
   "mimetype": "text/x-python",
   "name": "python",
   "nbconvert_exporter": "python",
   "pygments_lexer": "ipython3",
   "version": "3.10.6"
  },
  "orig_nbformat": 4
 },
 "nbformat": 4,
 "nbformat_minor": 2
}
