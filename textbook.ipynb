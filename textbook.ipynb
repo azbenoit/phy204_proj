{
 "cells": [
  {
   "cell_type": "code",
   "execution_count": 1,
   "metadata": {},
   "outputs": [],
   "source": [
    "import numpy as np\n",
    "from numpy.polynomial import Polynomial\n",
    "import matplotlib.pyplot as plt\n",
    "import time\n",
    "from numba import njit\n",
    "# %matplotlib qt"
   ]
  },
  {
   "attachments": {},
   "cell_type": "markdown",
   "metadata": {},
   "source": [
    "## Setup\n",
    "\n"
   ]
  },
  {
   "cell_type": "code",
   "execution_count": 2,
   "metadata": {},
   "outputs": [],
   "source": [
    "V=100\n",
    "L=100\n",
    "eps=1e-5"
   ]
  },
  {
   "cell_type": "code",
   "execution_count": 99,
   "metadata": {},
   "outputs": [],
   "source": [
    "import numpy as np\n",
    "\n",
    "V=100\n",
    "L=100\n",
    "eps=1e-5\n",
    "\n",
    "def get_grid():\n",
    "    return np.zeros((2*L,2*L))\n",
    "\n",
    "def set_boundry(grid):\n",
    "    grid[L, L-1:] = np.linspace(V, 0, L+1)\n",
    "    grid[0:L+1,L-1] = np.linspace(0, V, L+1)\n",
    "    grid[0:L,L:] = np.zeros((L,L))\n",
    "\n",
    "def compute_grid():\n",
    "    diff = eps+1\n",
    "\n",
    "    grid = get_grid()\n",
    "    last_grid = get_grid()\n",
    "    set_boundry(last_grid)\n",
    "\n",
    "    while (diff>eps):\n",
    "        N+=1\n",
    "        grid = get_grid()\n",
    "        grid[1:-1,1:-1] = 0.25*(last_grid[1:-1, 2:] + last_grid[1:-1, :-2]+ last_grid[2:, 1:-1] + last_grid[:-2, 1:-1])\n",
    "        set_boundry(grid)\n",
    "\n",
    "        diff = np.fabs(grid-last_grid).max()\n",
    "        last_grid = grid\n",
    "\n",
    "    return grid"
   ]
  },
  {
   "cell_type": "code",
   "execution_count": 107,
   "metadata": {},
   "outputs": [
    {
     "name": "stdout",
     "output_type": "stream",
     "text": [
      "16813\n",
      "3.1525352001190186\n"
     ]
    }
   ],
   "source": [
    "start = time.time()\n",
    "grid1 = compute_grid()\n",
    "print(time.time() - start)\n",
    "# plt.imshow(grid1)"
   ]
  },
  {
   "cell_type": "code",
   "execution_count": 103,
   "metadata": {},
   "outputs": [
    {
     "data": {
      "text/plain": [
       "1682321597.734146"
      ]
     },
     "execution_count": 103,
     "metadata": {},
     "output_type": "execute_result"
    }
   ],
   "source": []
  },
  {
   "cell_type": "code",
   "execution_count": 14,
   "metadata": {},
   "outputs": [
    {
     "data": {
      "text/plain": [
       "<matplotlib.contour.QuadContourSet at 0x13e9a41c0>"
      ]
     },
     "execution_count": 14,
     "metadata": {},
     "output_type": "execute_result"
    }
   ],
   "source": [
    "fig, ax = plt.subplots(subplot_kw={\"projection\": \"3d\"})\n",
    "\n",
    "X = np.arange(2*L)\n",
    "Y = np.arange(L)[::-1]\n",
    "X, Y = np.meshgrid(X, Y)\n",
    "# Z = grid + np.rot90(grid.T,2)\n",
    "# Z = grid1+grid2\n",
    "Z = grid\n",
    "ax.contour(X, Y, Z, 50)"
   ]
  },
  {
   "cell_type": "code",
   "execution_count": 57,
   "metadata": {},
   "outputs": [
    {
     "data": {
      "text/plain": [
       "0.0"
      ]
     },
     "execution_count": 57,
     "metadata": {},
     "output_type": "execute_result"
    }
   ],
   "source": [
    "grid2 = grid-grid1\n",
    "grid2[0:L,L:] = np.zeros((L,L))\n",
    "grid2.min()"
   ]
  },
  {
   "cell_type": "code",
   "execution_count": 66,
   "metadata": {},
   "outputs": [
    {
     "data": {
      "text/plain": [
       "array([1., 1., 1., 1., 1., 1., 1.])"
      ]
     },
     "execution_count": 66,
     "metadata": {},
     "output_type": "execute_result"
    }
   ],
   "source": [
    "a = np.ones(2)\n",
    "np.concatenate((a,np.ones(5)))"
   ]
  },
  {
   "cell_type": "code",
   "execution_count": 94,
   "metadata": {},
   "outputs": [
    {
     "name": "stderr",
     "output_type": "stream",
     "text": [
      "/var/folders/jn/78bt2nn54tl2wjjmmmcq84k40000gn/T/ipykernel_93943/3665491763.py:19: RuntimeWarning: invalid value encountered in double_scalars\n",
      "  v = yi/xi\n",
      "/var/folders/jn/78bt2nn54tl2wjjmmmcq84k40000gn/T/ipykernel_93943/3665491763.py:19: RuntimeWarning: divide by zero encountered in double_scalars\n",
      "  v = yi/xi\n"
     ]
    },
    {
     "data": {
      "text/plain": [
       "[<matplotlib.lines.Line2D at 0x29aa0b5e0>]"
      ]
     },
     "execution_count": 94,
     "metadata": {},
     "output_type": "execute_result"
    }
   ],
   "source": [
    "# def transform()\n",
    "\n",
    "N = 10\n",
    "D = 100\n",
    "\n",
    "x = np.array([])\n",
    "y = np.array([])\n",
    "\n",
    "for i in np.linspace(0, 0.5, N):\n",
    "    x = np.concatenate((x, np.linspace(i,1, D)))\n",
    "    y = np.concatenate((y, np.ones(D)*i))\n",
    "    y = np.concatenate((y, np.linspace(i,1, D)))\n",
    "    x = np.concatenate((x, np.ones(D)*i))\n",
    "\n",
    "for i in range(len(x)):\n",
    "    xi = x[i]\n",
    "    yi = y[i]\n",
    "\n",
    "    v = yi/xi\n",
    "\n",
    "    if 1 >= v >= 0.5:\n",
    "        x[i] = 2*v*xi\n",
    "        y[i] = 2*v*yi\n",
    "    elif 1 < v <= 2:\n",
    "        x[i] = 2*xi/v\n",
    "        y[i] = 2*yi/v\n",
    "\n",
    "fig, ax = plt.subplots()\n",
    "ax.plot(x, y, 'o', color='lightgrey')\n",
    "\n"
   ]
  },
  {
   "cell_type": "code",
   "execution_count": 18,
   "metadata": {},
   "outputs": [],
   "source": [
    "def optimized_boundry(grid):\n",
    "    grid[0, L-1:] = np.linspace(V, 0, L+1)\n",
    "    grid[0, :L-1] = grid[:0:-1, L-1]\n",
    "\n",
    "def optimized_compute():\n",
    "    errors = []\n",
    "    N=0\n",
    "    err = eps+1\n",
    "\n",
    "    grid = np.zeros((L, 2*L))\n",
    "    last_grid = np.zeros((L, 2*L))\n",
    "    optimized_boundry(last_grid)\n",
    "\n",
    "    while (err>eps):\n",
    "        N+=1\n",
    "        grid = optimized_compute_step(last_grid)\n",
    "        optimized_boundry(grid)\n",
    "\n",
    "        err = (grid-last_grid).max()\n",
    "        errors.append(err)\n",
    "        last_grid = grid\n",
    "\n",
    "    print(N)\n",
    "    return grid, N, errors\n",
    "\n",
    "def optimized_compute_step(grid):\n",
    "    new_grid = np.zeros((L, 2*L))\n",
    "    new_grid[1:-1,1:-1] = 0.25*(grid[2:,2:]+grid[2:,:-2]+grid[:-2,2:]+grid[:-2,:-2])\n",
    "    return new_grid"
   ]
  },
  {
   "cell_type": "code",
   "execution_count": 22,
   "metadata": {},
   "outputs": [
    {
     "name": "stdout",
     "output_type": "stream",
     "text": [
      "16813\n",
      "2.962104082107544\n"
     ]
    },
    {
     "data": {
      "text/plain": [
       "[<matplotlib.lines.Line2D at 0x15129acb0>]"
      ]
     },
     "execution_count": 22,
     "metadata": {},
     "output_type": "execute_result"
    }
   ],
   "source": [
    "start = time.time()\n",
    "grid, n, err = optimized_compute()\n",
    "print(time.time() - start)\n",
    "# plt.imshow(grid)\n",
    "\n",
    "plt.plot(np.arange(n), np.log(err))"
   ]
  },
  {
   "cell_type": "code",
   "execution_count": 3,
   "metadata": {},
   "outputs": [],
   "source": [
    "@njit(\"f8[:,:]()\", nogil=True)\n",
    "def numba_compute():\n",
    "    L = 100\n",
    "    V = 100\n",
    "    eps=1e-5\n",
    "    err=eps+1\n",
    "\n",
    "    i = np.array([0,1])\n",
    "\n",
    "    grids = [np.zeros((L, 2*L)), np.zeros((L, 2*L))]\n",
    "    grids[i[0]][0, L-1:] = np.linspace(V, 0, L+1)\n",
    "    grids[i[0]][0, :L-1] = grids[i[0]][:0:-1, L-1]\n",
    "\n",
    "    while (err>eps):\n",
    "\n",
    "        i = i[::-1]\n",
    "\n",
    "        # N+=1\n",
    "\n",
    "        grids[i[0]][1:-1,1:-1] = 0.25*(grids[i[1]][2:,2:]+grids[i[1]][2:,:-2]+grids[i[1]][:-2,2:]+grids[i[1]][:-2,:-2])\n",
    "        grids[i[0]][0, L-1:] = np.linspace(V, 0, L+1)\n",
    "        grids[i[0]][0, :L-1] = grids[i[0]][:0:-1, L-1]\n",
    "\n",
    "        err = (grids[i[0]]-grids[i[1]]).max()\n",
    "\n",
    "    # print(N)\n",
    "    return grids[i[0]]"
   ]
  },
  {
   "cell_type": "code",
   "execution_count": 5,
   "metadata": {},
   "outputs": [
    {
     "name": "stdout",
     "output_type": "stream",
     "text": [
      "1.4044268131256104\n"
     ]
    }
   ],
   "source": [
    "start = time.time()\n",
    "numba_grid = numba_compute()\n",
    "print(time.time() - start)\n",
    "# plt.imshow(numba_grid)"
   ]
  },
  {
   "cell_type": "code",
   "execution_count": 31,
   "metadata": {},
   "outputs": [
    {
     "ename": "TypeError",
     "evalue": "'Polynomial' object is not subscriptable",
     "output_type": "error",
     "traceback": [
      "\u001b[0;31m---------------------------------------------------------------------------\u001b[0m",
      "\u001b[0;31mTypeError\u001b[0m                                 Traceback (most recent call last)",
      "\u001b[1;32m/Users/lucas/Documents/_school/PHY204/project/textbook.ipynb Cell 15\u001b[0m in \u001b[0;36m4\n\u001b[1;32m      <a href='vscode-notebook-cell:/Users/lucas/Documents/_school/PHY204/project/textbook.ipynb#X24sZmlsZQ%3D%3D?line=1'>2</a>\u001b[0m y \u001b[39m=\u001b[39m grid[\u001b[39m0\u001b[39m,:L]\n\u001b[1;32m      <a href='vscode-notebook-cell:/Users/lucas/Documents/_school/PHY204/project/textbook.ipynb#X24sZmlsZQ%3D%3D?line=2'>3</a>\u001b[0m c \u001b[39m=\u001b[39m np\u001b[39m.\u001b[39mpolynomial\u001b[39m.\u001b[39mpolynomial\u001b[39m.\u001b[39mPolynomial((\u001b[39m0\u001b[39m))\u001b[39m.\u001b[39mfit(x, y, \u001b[39m2\u001b[39m)\n\u001b[0;32m----> <a href='vscode-notebook-cell:/Users/lucas/Documents/_school/PHY204/project/textbook.ipynb#X24sZmlsZQ%3D%3D?line=3'>4</a>\u001b[0m p \u001b[39m=\u001b[39m c[\u001b[39m0\u001b[39m]\u001b[39m*\u001b[39mx\u001b[39m*\u001b[39m\u001b[39m*\u001b[39m\u001b[39m2\u001b[39m\u001b[39m+\u001b[39mc[\u001b[39m1\u001b[39m]\u001b[39m*\u001b[39mx\u001b[39m+\u001b[39mc[\u001b[39m2\u001b[39m]\n\u001b[1;32m      <a href='vscode-notebook-cell:/Users/lucas/Documents/_school/PHY204/project/textbook.ipynb#X24sZmlsZQ%3D%3D?line=5'>6</a>\u001b[0m fig, ax \u001b[39m=\u001b[39m plt\u001b[39m.\u001b[39msubplots()\n\u001b[1;32m      <a href='vscode-notebook-cell:/Users/lucas/Documents/_school/PHY204/project/textbook.ipynb#X24sZmlsZQ%3D%3D?line=6'>7</a>\u001b[0m ax\u001b[39m.\u001b[39mplot(x, y)\n",
      "\u001b[0;31mTypeError\u001b[0m: 'Polynomial' object is not subscriptable"
     ]
    }
   ],
   "source": [
    "x = np.sqrt(np.arange(L)+1)\n",
    "y = grid[0,:L]\n",
    "p = Polynomial.fit(x, y, 2)\n",
    "\n",
    "fig, ax = plt.subplots()\n",
    "ax.plot(x, y)\n",
    "ax.plot(x, p.)"
   ]
  },
  {
   "cell_type": "code",
   "execution_count": 13,
   "metadata": {},
   "outputs": [
    {
     "ename": "ModuleNotFoundError",
     "evalue": "No module named 'dolfin'",
     "output_type": "error",
     "traceback": [
      "\u001b[0;31m---------------------------------------------------------------------------\u001b[0m",
      "\u001b[0;31mModuleNotFoundError\u001b[0m                       Traceback (most recent call last)",
      "\u001b[1;32m/Users/lucas/Documents/_school/PHY204/phy204_proj/textbook.ipynb Cell 16\u001b[0m in \u001b[0;36m1\n\u001b[0;32m----> <a href='vscode-notebook-cell:/Users/lucas/Documents/_school/PHY204/phy204_proj/textbook.ipynb#X21sZmlsZQ%3D%3D?line=0'>1</a>\u001b[0m \u001b[39mimport\u001b[39;00m \u001b[39mdolfin\u001b[39;00m \u001b[39mas\u001b[39;00m \u001b[39mdf\u001b[39;00m\n\u001b[1;32m      <a href='vscode-notebook-cell:/Users/lucas/Documents/_school/PHY204/phy204_proj/textbook.ipynb#X21sZmlsZQ%3D%3D?line=2'>3</a>\u001b[0m \u001b[39m# Define the mesh\u001b[39;00m\n\u001b[1;32m      <a href='vscode-notebook-cell:/Users/lucas/Documents/_school/PHY204/phy204_proj/textbook.ipynb#X21sZmlsZQ%3D%3D?line=3'>4</a>\u001b[0m mesh \u001b[39m=\u001b[39m df\u001b[39m.\u001b[39mUnitSquareMesh(\u001b[39m50\u001b[39m, \u001b[39m50\u001b[39m)\n",
      "\u001b[0;31mModuleNotFoundError\u001b[0m: No module named 'dolfin'"
     ]
    }
   ],
   "source": [
    "import dolfin as df\n",
    "\n",
    "# Define the mesh\n",
    "mesh = df.UnitSquareMesh(50, 50)\n",
    "\n",
    "# Define the function space\n",
    "V = df.FunctionSpace(mesh, 'P', 1)\n",
    "\n",
    "# Define the boundary condition\n",
    "u_D = df.Constant(0.0)\n",
    "bc = df.DirichletBC(V, u_D, 'on_boundary')\n",
    "\n",
    "# Define the variational problem\n",
    "u = df.TrialFunction(V)\n",
    "v = df.TestFunction(V)\n",
    "f = df.Constant(1.0)\n",
    "a = df.inner(df.grad(u), df.grad(v)) * df.dx\n",
    "L = f * v * df.dx\n",
    "\n",
    "# Compute the solution\n",
    "u = df.Function(V)\n",
    "df.solve(a == L, u, bc)\n",
    "\n",
    "# Plot the solution\n",
    "df.plot(u)\n",
    "df.interactive()"
   ]
  },
  {
   "cell_type": "code",
   "execution_count": 23,
   "metadata": {},
   "outputs": [
    {
     "name": "stdout",
     "output_type": "stream",
     "text": [
      "16813\n",
      "9.998789574359521e-06\n",
      "1.7985341548919678\n"
     ]
    },
    {
     "data": {
      "text/plain": [
       "[<matplotlib.lines.Line2D at 0x151220640>]"
      ]
     },
     "execution_count": 23,
     "metadata": {},
     "output_type": "execute_result"
    }
   ],
   "source": [
    "def iterative_compute():\n",
    "    N=0\n",
    "    err = eps+1\n",
    "    errors = []\n",
    "\n",
    "    grid = np.zeros((L, 2*L))    \n",
    "    grid[0, L-1:] = np.linspace(V, 0, L+1)\n",
    "\n",
    "    while (err>eps):\n",
    "        N+=1\n",
    "        new_grid = np.zeros((L, 2*L))\n",
    "        new_grid[1:-1,1:-1] = 0.25*(grid[2:,2:]+grid[2:,:-2]+grid[:-2,2:]+grid[:-2,:-2])\n",
    "        new_grid[0, :L-1] = new_grid[:0:-1, L-1]\n",
    "\n",
    "        err = (new_grid-grid).max()\n",
    "        errors.append(err)\n",
    "        grid = new_grid\n",
    "\n",
    "    print(N)\n",
    "    print(err)\n",
    "    return grid, N, errors\n",
    "\n",
    "start = time.time()\n",
    "grid, n, err = iterative_compute()\n",
    "print(time.time() - start)\n",
    "\n",
    "plt.plot(np.arange(n), np.log(err))"
   ]
  },
  {
   "cell_type": "code",
   "execution_count": null,
   "metadata": {},
   "outputs": [],
   "source": []
  }
 ],
 "metadata": {
  "kernelspec": {
   "display_name": "base",
   "language": "python",
   "name": "python3"
  },
  "language_info": {
   "codemirror_mode": {
    "name": "ipython",
    "version": 3
   },
   "file_extension": ".py",
   "mimetype": "text/x-python",
   "name": "python",
   "nbconvert_exporter": "python",
   "pygments_lexer": "ipython3",
   "version": "3.10.6"
  },
  "orig_nbformat": 4
 },
 "nbformat": 4,
 "nbformat_minor": 2
}
