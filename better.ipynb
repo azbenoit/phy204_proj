{
 "cells": [
  {
   "cell_type": "code",
   "execution_count": 51,
   "metadata": {},
   "outputs": [],
   "source": [
    "import numpy as np\n",
    "from numpy.polynomial import Polynomial\n",
    "import matplotlib.pyplot as plt\n",
    "import time\n",
    "from numba import njit\n",
    "from scipy.sparse.linalg import spsolve\n",
    "from scipy.sparse import csc_matrix\n",
    "%matplotlib qt"
   ]
  },
  {
   "cell_type": "code",
   "execution_count": 14,
   "metadata": {},
   "outputs": [],
   "source": [
    "V=100\n",
    "L=100\n",
    "eps=1e-5"
   ]
  },
  {
   "cell_type": "code",
   "execution_count": 15,
   "metadata": {},
   "outputs": [],
   "source": [
    "def plot_3d(grid):\n",
    "    fig = plt.figure()\n",
    "    ax = fig.add_subplot(111, projection='3d')\n",
    "    x = np.arange(0, grid.shape[1], 1)\n",
    "    y = np.arange(0, grid.shape[0], 1)\n",
    "    X, Y = np.meshgrid(x, y)\n",
    "    ax.contour(X[::-1], Y, grid, 50)\n",
    "\n",
    "def plot_2d(grid, vmax=V):\n",
    "    fig = plt.figure(figsize=(16, 9))\n",
    "    ax = fig.add_subplot(111)\n",
    "    ax.imshow(grid, origin='lower', vmax=vmax)"
   ]
  },
  {
   "cell_type": "code",
   "execution_count": 16,
   "metadata": {},
   "outputs": [],
   "source": [
    "def upscale(A,factor):\n",
    "    return np.repeat(np.repeat(A,factor,0),factor,1)"
   ]
  },
  {
   "cell_type": "code",
   "execution_count": 17,
   "metadata": {},
   "outputs": [],
   "source": [
    "def problem_init(grid):\n",
    "    ly, lx = grid.shape\n",
    "    grid[0, lx//2-1:] = np.linspace(V, 0, lx//2+1)\n",
    "\n",
    "\n",
    "def problem_boundary(grid):\n",
    "    ly, lx = grid.shape\n",
    "    grid[0, :lx//2-1] = grid[:0:-1, lx//2-1]\n",
    "\n",
    "\n",
    "def normal_compute_step(grid):\n",
    "    return .25 * (grid[1:-1, 2:] + grid[1:-1, :-2]\n",
    "                  + grid[2:, 1:-1] + grid[:-2, 1:-1])\n",
    "\n",
    "\n",
    "def compute_grid(shape, guess=None, init=problem_init, boundary=problem_boundary, next=normal_compute_step, max_iter=1e5, eps=1e-5):\n",
    "    errors = np.zeros(int(max_iter))\n",
    "    N = 0\n",
    "    err = eps+1\n",
    "\n",
    "    if guess is None:\n",
    "        grid = np.zeros(shape)\n",
    "    else:\n",
    "        grid = guess\n",
    "    \n",
    "    if init:\n",
    "        init(grid)\n",
    "\n",
    "    while (err > eps and N < max_iter):\n",
    "        next_grid = grid.copy()\n",
    "        next_grid[1:-1,1:-1] = next(grid)\n",
    "\n",
    "        boundary(next_grid)\n",
    "\n",
    "        err = (next_grid-grid).max()\n",
    "        errors[N] = err\n",
    "        grid = next_grid\n",
    "        N += 1\n",
    "\n",
    "    return grid, N, np.trim_zeros(errors)\n"
   ]
  },
  {
   "cell_type": "code",
   "execution_count": 121,
   "metadata": {},
   "outputs": [
    {
     "name": "stdout",
     "output_type": "stream",
     "text": [
      "1.514146089553833\n",
      "Iterations:  28151\n",
      "Error:  9.999705394392322e-06\n"
     ]
    }
   ],
   "source": [
    "start = time.time()\n",
    "grid_reg, n, err = compute_grid((L,2*L))\n",
    "print(time.time() - start)\n",
    "print('Iterations: ', n)\n",
    "print('Error: ', err[-1])"
   ]
  },
  {
   "cell_type": "code",
   "execution_count": 19,
   "metadata": {},
   "outputs": [
    {
     "name": "stdout",
     "output_type": "stream",
     "text": [
      "0.1398789882659912\n",
      "Iterations:  2350\n",
      "Error:  9.9973400295994e-06\n"
     ]
    }
   ],
   "source": [
    "start = time.time()\n",
    "grid_div_4, n, err = compute_grid((L//4,2*L//4))\n",
    "print(time.time() - start)\n",
    "print('Iterations: ', n)\n",
    "print('Error: ', err[-1])"
   ]
  },
  {
   "cell_type": "code",
   "execution_count": 20,
   "metadata": {},
   "outputs": [
    {
     "name": "stdout",
     "output_type": "stream",
     "text": [
      "0.4073500633239746\n",
      "Iterations:  8329\n",
      "Error:  9.993925310425311e-06\n"
     ]
    }
   ],
   "source": [
    "start = time.time()\n",
    "grid_div_2, n, err = compute_grid((L//2,2*L//2))\n",
    "print(time.time() - start)\n",
    "print('Iterations: ', n)\n",
    "print('Error: ', err[-1])"
   ]
  },
  {
   "cell_type": "code",
   "execution_count": 21,
   "metadata": {},
   "outputs": [
    {
     "name": "stdout",
     "output_type": "stream",
     "text": [
      "0.3867769241333008\n",
      "Iterations:  6943\n",
      "Error:  9.994876371877126e-06\n"
     ]
    }
   ],
   "source": [
    "start = time.time()\n",
    "temp = grid_div_4.copy()\n",
    "temp[0,:] = 0\n",
    "temp = np.roll(temp, -1, axis=0)\n",
    "temp[:,1:L//4+1] = temp[:, :L//4]\n",
    "temp[:,L//4+1:-1] = temp[:, L//4+2:]\n",
    "grid_div_2_upscaled, n, err = compute_grid((L//2,2*L//2), guess=upscale(temp, 2))\n",
    "print(time.time() - start)\n",
    "print('Iterations: ', n)\n",
    "print('Error: ', err[-1])"
   ]
  },
  {
   "cell_type": "code",
   "execution_count": 25,
   "metadata": {},
   "outputs": [
    {
     "name": "stdout",
     "output_type": "stream",
     "text": [
      "2.0336711406707764\n",
      "Iterations:  21727\n",
      "Error:  9.996446149074245e-06\n"
     ]
    }
   ],
   "source": [
    "start = time.time()\n",
    "temp = grid_div_2.copy()\n",
    "temp[0,:] = 0\n",
    "temp = np.roll(temp, -1, axis=0)\n",
    "temp[:,1:L//2+1] = temp[:, :L//2]\n",
    "temp[:,L//2+1:-1] = temp[:, L//2+2:]\n",
    "grid_upscaled, n, err = compute_grid((L,2*L), guess=upscale(temp, 2))\n",
    "print(time.time() - start)\n",
    "print('Iterations: ', n)\n",
    "print('Error: ', err[-1])"
   ]
  },
  {
   "cell_type": "code",
   "execution_count": 24,
   "metadata": {},
   "outputs": [],
   "source": [
    "plot_3d(grid_upscaled)"
   ]
  },
  {
   "cell_type": "code",
   "execution_count": 23,
   "metadata": {},
   "outputs": [
    {
     "data": {
      "text/plain": [
       "0.026786019964319507"
      ]
     },
     "execution_count": 23,
     "metadata": {},
     "output_type": "execute_result"
    }
   ],
   "source": [
    "np.fabs(grid-grid_upscaled).max()"
   ]
  },
  {
   "cell_type": "code",
   "execution_count": 24,
   "metadata": {},
   "outputs": [],
   "source": [
    "fig, ax = plt.subplots()\n",
    "\n",
    "x = np.arange(L)\n",
    "\n",
    "for i in np.arange(L,2*L-1):\n",
    "    y = grid[:,i]\n",
    "    plt.plot(x, y)\n"
   ]
  },
  {
   "cell_type": "code",
   "execution_count": 12,
   "metadata": {},
   "outputs": [
    {
     "name": "stdout",
     "output_type": "stream",
     "text": [
      "28151\n",
      "28151\n",
      "[]\n",
      "2.8157589435577393\n"
     ]
    }
   ],
   "source": [
    "def optimized_boundry(grid):\n",
    "    # grid[0, L-1:] = np.linspace(V, 0, L+1)\n",
    "    grid[0, :L-1] = grid[:0:-1, L-1]\n",
    "\n",
    "\n",
    "def optimized_compute():\n",
    "    errors = []\n",
    "    N = 0\n",
    "    err = eps+1\n",
    "\n",
    "    grid = np.zeros((L, 2*L))\n",
    "    grid[0,:] = 0\n",
    "    grid[L-1,:] = 0\n",
    "    grid[:,0] = 0\n",
    "    grid[:,2*L-1] = 0\n",
    "    grid[0, L-1:] = np.linspace(V, 0, L+1)\n",
    "\n",
    "    while (err > eps):\n",
    "        N += 1\n",
    "        grid_copy = grid.copy()\n",
    "        grid[1:-1,1:-1] = .25 * (grid_copy[1:-1,2:] + grid_copy[1:-1, :-2] \\\n",
    "                              + grid_copy[2:, 1:-1] + grid_copy[:-2, 1:-1])\n",
    "        grid[0, :L-1] = grid[:0:-1, L-1]\n",
    "\n",
    "        err = (grid-grid_copy).max()\n",
    "        # errors.append(err)\n",
    "        last_grid = grid\n",
    "\n",
    "    print(N)\n",
    "    return grid, N, errors\n",
    "\n",
    "\n",
    "def optimized_compute_step(grid):\n",
    "    new_grid = np.zeros((L, 2*L))\n",
    "    new_grid[1:-1, 1:-1] = 0.25 * \\\n",
    "        (grid[1:-1, 2:]+grid[1:-1, :-2]+grid[:-2, 1:-1]+grid[2:, 1:-1])\n",
    "    return new_grid\n",
    "\n",
    "\n",
    "start = time.time()\n",
    "final, n, err = optimized_compute()\n",
    "print(n)\n",
    "print(err)\n",
    "print(time.time() - start)\n",
    "\n",
    "# plt.plot(np.arange(n), np.log(err))\n",
    "# plt.plot(np.arange(L), grid[0,:L])\n",
    "# plt.imshow(grid)\n"
   ]
  },
  {
   "cell_type": "code",
   "execution_count": 50,
   "metadata": {},
   "outputs": [],
   "source": [
    "fig, ax = plt.subplots()\n",
    "\n",
    "x = np.arange(L)\n",
    "\n",
    "for i in np.arange(L,2*L-1):\n",
    "    y = grid[:,i-L]\n",
    "    plt.plot(x, y)\n"
   ]
  },
  {
   "cell_type": "code",
   "execution_count": 51,
   "metadata": {},
   "outputs": [
    {
     "name": "stdout",
     "output_type": "stream",
     "text": [
      "40301\n",
      "40301\n",
      "[]\n",
      "10.178325891494751\n"
     ]
    }
   ],
   "source": [
    "def optimized_boundry(grid):\n",
    "    # grid[0, L-1:] = np.linspace(V, 0, L+1)\n",
    "    grid[0, :L-1] = grid[:0:-1, L-1]\n",
    "\n",
    "\n",
    "def optimized_compute():\n",
    "    errors = []\n",
    "    N = 0\n",
    "    err = eps+1\n",
    "\n",
    "    grid = np.zeros((2*L, 2*L))\n",
    "    grid[L, L-1] = V\n",
    "    # grid[0, L-1:] = np.linspace(V, 0, L+1)\n",
    "\n",
    "    while (err > eps):\n",
    "        N += 1\n",
    "        grid_copy = grid.copy()\n",
    "        grid[1:-1,1:-1] = .25 * (grid_copy[1:-1,2:] + grid_copy[1:-1, :-2] \\\n",
    "                              + grid_copy[2:, 1:-1] + grid_copy[:-2, 1:-1])\n",
    "        grid[L, L-1] = V\n",
    "\n",
    "        err = (grid-grid_copy).max()\n",
    "        # errors.append(err)\n",
    "        last_grid = grid\n",
    "\n",
    "    print(N)\n",
    "    return grid, N, errors\n",
    "\n",
    "\n",
    "def optimized_compute_step(grid):\n",
    "    new_grid = np.zeros((L, 2*L))\n",
    "    new_grid[1:-1, 1:-1] = 0.25 * \\\n",
    "        (grid[1:-1, 2:]+grid[1:-1, :-2]+grid[:-2, 1:-1]+grid[2:, 1:-1])\n",
    "    return new_grid\n",
    "\n",
    "\n",
    "start = time.time()\n",
    "grid, n, err = optimized_compute()\n",
    "print(n)\n",
    "print(err)\n",
    "print(time.time() - start)\n",
    "\n",
    "# plt.plot(np.arange(n), np.log(err))\n",
    "# plt.plot(np.arange(L), grid[0,:L])\n",
    "# plt.imshow(grid)"
   ]
  },
  {
   "cell_type": "code",
   "execution_count": 41,
   "metadata": {},
   "outputs": [
    {
     "data": {
      "text/plain": [
       "<matplotlib.image.AxesImage at 0x2974a5990>"
      ]
     },
     "execution_count": 41,
     "metadata": {},
     "output_type": "execute_result"
    }
   ],
   "source": [
    "plt.imshow(grid)"
   ]
  },
  {
   "cell_type": "code",
   "execution_count": 44,
   "metadata": {},
   "outputs": [
    {
     "data": {
      "text/plain": [
       "<matplotlib.contour.QuadContourSet at 0x2995f5930>"
      ]
     },
     "execution_count": 44,
     "metadata": {},
     "output_type": "execute_result"
    }
   ],
   "source": [
    "fig, ax = plt.subplots(subplot_kw={\"projection\": \"3d\"})\n",
    "\n",
    "X = np.arange(2*L)\n",
    "Y = np.arange(L)\n",
    "X, Y = np.meshgrid(X, Y)\n",
    "# Z = grid + np.rot90(grid.T,2)\n",
    "# Z = grid1+grid2\n",
    "Z = grid[L:,:]\n",
    "ax.contour(X, Y, Z, 50)"
   ]
  },
  {
   "cell_type": "code",
   "execution_count": 45,
   "metadata": {},
   "outputs": [
    {
     "data": {
      "text/plain": [
       "array([100.        ,  75.02766628])"
      ]
     },
     "execution_count": 45,
     "metadata": {},
     "output_type": "execute_result"
    }
   ],
   "source": [
    "grid[L:,:][0, L-1:L+1]"
   ]
  },
  {
   "cell_type": "code",
   "execution_count": 46,
   "metadata": {},
   "outputs": [
    {
     "data": {
      "text/plain": [
       "array([100.,  99.,  98.,  97.,  96.])"
      ]
     },
     "execution_count": 46,
     "metadata": {},
     "output_type": "execute_result"
    }
   ],
   "source": [
    "np.linspace(V, 0, L+1)[:5]"
   ]
  },
  {
   "cell_type": "code",
   "execution_count": null,
   "metadata": {},
   "outputs": [],
   "source": [
    "for i in np.arange(1,)"
   ]
  },
  {
   "cell_type": "code",
   "execution_count": 30,
   "metadata": {},
   "outputs": [],
   "source": [
    "a = np.concatenate([[grid[L:,:][0, L-1-i:2*L-1-i]] for i in range(L)])\n",
    "b = np.linspace(V, 0, L+1)[:-1]\n",
    "x = np.linalg.solve(a, b)"
   ]
  },
  {
   "cell_type": "code",
   "execution_count": 31,
   "metadata": {},
   "outputs": [],
   "source": [
    "a = np.concatenate([[grid[L:,:][0, L-1-i:2*L-i]] for i in range(L)])\n",
    "temp = np.zeros((L+1))\n",
    "temp[1:] += grid[L:,:][0,:L]\n",
    "a = np.concatenate((a, [temp]))\n",
    "b = np.linspace(V, 0, L+1)\n",
    "x = np.linalg.solve(a, b)"
   ]
  },
  {
   "cell_type": "code",
   "execution_count": 27,
   "metadata": {},
   "outputs": [
    {
     "ename": "IndexError",
     "evalue": "index 100 is out of bounds for axis 0 with size 100",
     "output_type": "error",
     "traceback": [
      "\u001b[0;31m---------------------------------------------------------------------------\u001b[0m",
      "\u001b[0;31mIndexError\u001b[0m                                Traceback (most recent call last)",
      "\u001b[1;32m/Users/lucas/Documents/_school/PHY204/phy204_proj/better.ipynb Cell 15\u001b[0m in \u001b[0;36m1\n\u001b[0;32m----> <a href='vscode-notebook-cell:/Users/lucas/Documents/_school/PHY204/phy204_proj/better.ipynb#X32sZmlsZQ%3D%3D?line=0'>1</a>\u001b[0m grid[L, L\u001b[39m-\u001b[39m\u001b[39m1\u001b[39m\u001b[39m-\u001b[39m\u001b[39m0\u001b[39m:\u001b[39m2\u001b[39m\u001b[39m*\u001b[39mL\u001b[39m-\u001b[39m\u001b[39m0\u001b[39m]\n",
      "\u001b[0;31mIndexError\u001b[0m: index 100 is out of bounds for axis 0 with size 100"
     ]
    }
   ],
   "source": [
    "grid[L, L-1-0:2*L-0]"
   ]
  },
  {
   "cell_type": "markdown",
   "metadata": {},
   "source": []
  },
  {
   "cell_type": "code",
   "execution_count": 32,
   "metadata": {},
   "outputs": [],
   "source": [
    "guess = np.zeros((L, 2*L))\n",
    "\n",
    "for i in range(L+1):\n",
    "    shifted = np.zeros((L, 2*L))\n",
    "    shifted[:, i:] = x[i]*grid[L:, :2*L-i]\n",
    "    guess += shifted\n",
    "\n"
   ]
  },
  {
   "cell_type": "code",
   "execution_count": 33,
   "metadata": {},
   "outputs": [
    {
     "data": {
      "text/plain": [
       "<matplotlib.contour.QuadContourSet at 0x114806bf0>"
      ]
     },
     "execution_count": 33,
     "metadata": {},
     "output_type": "execute_result"
    }
   ],
   "source": [
    "fig, ax = plt.subplots(subplot_kw={\"projection\": \"3d\"})\n",
    "\n",
    "X = np.arange(2*L)\n",
    "Y = np.arange(L)[::-1]\n",
    "X, Y = np.meshgrid(X, Y)\n",
    "# Z = grid + np.rot90(grid.T,2)\n",
    "# Z = grid1+grid2\n",
    "Z = guess\n",
    "ax.contour(X, Y, Z, 50)"
   ]
  },
  {
   "cell_type": "code",
   "execution_count": 34,
   "metadata": {},
   "outputs": [
    {
     "data": {
      "text/plain": [
       "array([99.95017897, 98.96446061, 97.96745484, 96.97044183, 95.97342226,\n",
       "       94.97639689, 93.97936643, 92.98233164, 91.98529321, 90.98825192,\n",
       "       89.99120847, 88.99416364, 87.99711812, 87.00007272, 86.00302811,\n",
       "       85.00598512, 84.00894442, 83.01190684, 82.01487308, 81.01784395,\n",
       "       80.02082016, 79.02380254, 78.02679179, 77.02978876, 76.03279416,\n",
       "       75.03580884, 74.03883352, 73.04186907, 72.0449162 , 71.04797579,\n",
       "       70.05104858, 69.05413547, 68.05723718, 67.06035463, 66.06348857,\n",
       "       65.06663991, 64.06980943, 63.07299806, 62.07620657, 61.07943593,\n",
       "       60.08268692, 59.08596052, 58.08925753, 57.09257894, 56.09592559,\n",
       "       55.09929849, 54.10269847, 53.10612659, 52.1095837 , 51.11307087,\n",
       "       50.11658898, 49.12013912, 48.12372221, 47.12733936, 46.13099151,\n",
       "       45.13467981, 44.13840522, 43.14216893, 42.14597193, 41.14981545,\n",
       "       40.1537005 , 39.15762835, 38.16160006, 37.16561694, 36.16968007,\n",
       "       35.17379081, 34.1779503 , 33.18215992, 32.18642088, 31.1907346 ,\n",
       "       30.19510233, 29.19952556, 28.20400558, 27.20854395, 26.21314202,\n",
       "       25.21780141, 24.22252352, 23.22731004, 22.23216246, 21.23708252,\n",
       "       20.24207179, 19.2471321 , 18.25226509, 17.25747267, 16.26275659,\n",
       "       15.26811883, 14.27356124, 13.27908591, 12.28469479, 11.29039007,\n",
       "       10.29617382,  9.30204837,  8.30801588,  7.31407881,  6.32023948,\n",
       "        5.32650049,  4.3328643 ,  3.33933366,  2.34591119,  1.35259982,\n",
       "        0.29009907])"
      ]
     },
     "execution_count": 34,
     "metadata": {},
     "output_type": "execute_result"
    }
   ],
   "source": [
    "guess[0,L-1:]"
   ]
  },
  {
   "cell_type": "code",
   "execution_count": 36,
   "metadata": {},
   "outputs": [
    {
     "data": {
      "text/plain": [
       "<matplotlib.contour.QuadContourSet at 0x115c1d240>"
      ]
     },
     "execution_count": 36,
     "metadata": {},
     "output_type": "execute_result"
    }
   ],
   "source": [
    "fig, ax = plt.subplots(subplot_kw={\"projection\": \"3d\"})\n",
    "\n",
    "X = np.arange(2*L)\n",
    "Y = np.arange(L)[::-1]\n",
    "X, Y = np.meshgrid(X, Y)\n",
    "# Z = grid + np.rot90(grid.T,2)\n",
    "# Z = grid1+grid2\n",
    "Z = guess-final\n",
    "ax.contour(X, Y, Z, 50)"
   ]
  },
  {
   "cell_type": "code",
   "execution_count": 44,
   "metadata": {},
   "outputs": [
    {
     "data": {
      "text/plain": [
       "0.013572860410739906"
      ]
     },
     "execution_count": 44,
     "metadata": {},
     "output_type": "execute_result"
    }
   ],
   "source": [
    "np.fabs(final_guess-final).max()"
   ]
  },
  {
   "cell_type": "code",
   "execution_count": 105,
   "metadata": {},
   "outputs": [],
   "source": [
    "def coord_to_index(coord, L):\n",
    "    y, x = coord\n",
    "\n",
    "    offset = y * L + y * (y + 1) / 2\n",
    "\n",
    "    return int(x + offset)\n",
    "\n",
    "\n",
    "def index_to_coord(index, L):\n",
    "    y = int(np.floor(((-(1+2*L) + np.sqrt((1+2*L)**2 + 8 * index)) / 2)))\n",
    "    x = index - y * L - y * (y + 1) / 2\n",
    "\n",
    "    return (y, x)\n"
   ]
  },
  {
   "cell_type": "code",
   "execution_count": 106,
   "metadata": {},
   "outputs": [
    {
     "name": "stdout",
     "output_type": "stream",
     "text": [
      "0 0\n"
     ]
    },
    {
     "data": {
      "text/plain": [
       "154"
      ]
     },
     "execution_count": 106,
     "metadata": {},
     "output_type": "execute_result"
    }
   ],
   "source": [
    "L = 10\n",
    "last_i = 0\n",
    "\n",
    "for y in range(L):\n",
    "    for x in range(L+1+y):\n",
    "        i = coord_to_index((y, x), L)\n",
    "\n",
    "        if (i-last_i) != 1:\n",
    "            print(y, x)\n",
    "        \n",
    "        if (y, x) != index_to_coord(i, L):\n",
    "            # not in\n",
    "            print(\"index to coord failed\")\n",
    "            print((y, x))\n",
    "            print(index_to_coord(i, L))\n",
    "\n",
    "        last_i = i\n",
    "\n",
    "\n",
    "coord_to_index((9, 19), 10)"
   ]
  },
  {
   "cell_type": "code",
   "execution_count": 112,
   "metadata": {},
   "outputs": [],
   "source": [
    "L = 100\n",
    "\n",
    "states_n = int(L * L + (L + 1) * L / 2)\n",
    "\n",
    "# empty state\n",
    "state = np.zeros(states_n)\n",
    "\n",
    "# boundary\n",
    "\n",
    "boundary = np.zeros((states_n, 1))\n",
    "boundary[:L+1, 0] = np.linspace(V, 0, L+1)\n",
    "\n",
    "# matrix\n",
    "\n",
    "matrix = np.identity(states_n)\n",
    "\n",
    "# set matrix\n",
    "\n",
    "for y in range(1, L-1):\n",
    "    i = coord_to_index((y, 0), L)\n",
    "    \n",
    "    matrix[i, i] = -2\n",
    "    matrix[i, i+1] = 1\n",
    "    matrix[i, coord_to_index((y+1, 1), L)] = 1\n",
    "\n",
    "    for x in range(1, L+y):\n",
    "        i+=1\n",
    "        matrix[i, i] = -4\n",
    "        matrix[i, i+1] = 1\n",
    "        matrix[i, i-1] = 1\n",
    "        matrix[i, coord_to_index((y-1, x-1), L)] = 1\n",
    "        matrix[i, coord_to_index((y+1, x+1), L)] = 1\n",
    "\n",
    "sparse_matrix = csc_matrix(matrix)"
   ]
  },
  {
   "cell_type": "code",
   "execution_count": 117,
   "metadata": {},
   "outputs": [
    {
     "name": "stdout",
     "output_type": "stream",
     "text": [
      "0.09225010871887207\n"
     ]
    }
   ],
   "source": [
    "start = time.time()\n",
    "u_exact = spsolve(sparse_matrix, boundary)\n",
    "print(time.time() - start)"
   ]
  },
  {
   "cell_type": "code",
   "execution_count": 113,
   "metadata": {},
   "outputs": [],
   "source": [
    "\n"
   ]
  },
  {
   "cell_type": "code",
   "execution_count": 118,
   "metadata": {},
   "outputs": [],
   "source": [
    "grid = np.zeros((2*L, 2*L))\n",
    "\n",
    "for y in range(L):\n",
    "    i = coord_to_index((y, 0), L)\n",
    "    grid[L+y, L-1-y:]=u_exact[i:i+L+y+1]\n",
    "    grid[:L+y+1, L-1-y]=u_exact[i:i+L+y+1][::-1]"
   ]
  },
  {
   "cell_type": "code",
   "execution_count": 134,
   "metadata": {},
   "outputs": [],
   "source": [
    "grid_reg_full = np.zeros((2*L, 2*L))\n",
    "grid_reg_full[L:,:]=grid_reg\n",
    "grid_reg_full[:,:L]=np.rot90(grid_reg.T,2)\n",
    "\n",
    "plot_3d(grid_reg_full)"
   ]
  },
  {
   "cell_type": "code",
   "execution_count": null,
   "metadata": {},
   "outputs": [],
   "source": []
  }
 ],
 "metadata": {
  "kernelspec": {
   "display_name": "base",
   "language": "python",
   "name": "python3"
  },
  "language_info": {
   "codemirror_mode": {
    "name": "ipython",
    "version": 3
   },
   "file_extension": ".py",
   "mimetype": "text/x-python",
   "name": "python",
   "nbconvert_exporter": "python",
   "pygments_lexer": "ipython3",
   "version": "3.10.6"
  },
  "orig_nbformat": 4
 },
 "nbformat": 4,
 "nbformat_minor": 2
}
